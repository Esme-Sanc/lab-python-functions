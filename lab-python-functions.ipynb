{
 "cells": [
  {
   "cell_type": "markdown",
   "id": "25d7736c-ba17-4aff-b6bb-66eba20fbf4e",
   "metadata": {},
   "source": [
    "# Lab | Functions"
   ]
  },
  {
   "cell_type": "markdown",
   "id": "0c581062-8967-4d93-b06e-62833222f930",
   "metadata": {
    "tags": []
   },
   "source": [
    "## Exercise: Managing Customer Orders with Functions\n",
    "\n",
    "In the previous exercise, you improved the code for managing customer orders by using loops and flow control. Now, let's take it a step further and refactor the code by introducing functions.\n",
    "\n",
    "Follow the steps below to complete the exercise:\n",
    "\n",
    "1. Define a function named `initialize_inventory` that takes `products` as a parameter. Inside the function, implement the code for initializing the inventory dictionary using a loop and user input.\n",
    "\n",
    "2. Define a function named `get_customer_orders` that takes no parameters. Inside the function, implement the code for prompting the user to enter the product names using a loop. The function should return the `customer_orders` set.\n",
    "\n",
    "3. Define a function named `update_inventory` that takes `customer_orders` and `inventory` as parameters. Inside the function, implement the code for updating the inventory dictionary based on the customer orders.\n",
    "\n",
    "4. Define a function named `calculate_order_statistics` that takes `customer_orders` and `products` as parameters. Inside the function, implement the code for calculating the order statistics (total products ordered, and percentage of unique products ordered). The function should return these values.\n",
    "\n",
    "5. Define a function named `print_order_statistics` that takes `order_statistics` as a parameter. Inside the function, implement the code for printing the order statistics.\n",
    "\n",
    "6. Define a function named `print_updated_inventory` that takes `inventory` as a parameter. Inside the function, implement the code for printing the updated inventory.\n",
    "\n",
    "7. Call the functions in the appropriate sequence to execute the program and manage customer orders.\n",
    "\n",
    "Hints for functions:\n",
    "\n",
    "- Consider the input parameters required for each function and their return values.\n",
    "- Utilize function parameters and return values to transfer data between functions.\n",
    "- Test your functions individually to ensure they work correctly.\n",
    "\n",
    "\n"
   ]
  },
  {
   "cell_type": "code",
   "execution_count": null,
   "id": "c5c206e4",
   "metadata": {},
   "outputs": [],
   "source": []
  },
  {
   "cell_type": "code",
   "execution_count": 1,
   "id": "efc2dab4",
   "metadata": {},
   "outputs": [],
   "source": [
    "# step1 Define a function to initualize the inventory\n",
    "def initialize_inventory(products):\n",
    "    inventory = {}\n",
    "    for product in products:\n",
    "        quantity = int(input(f\"Enter the quantity for {product}:\"))\n",
    "        inventory[product] = quantity\n",
    "    return inventory"
   ]
  },
  {
   "cell_type": "code",
   "execution_count": 2,
   "id": "eb98091e",
   "metadata": {},
   "outputs": [],
   "source": [
    "# step2 Define a function to get customer orders\n",
    "def get_customer_orders():\n",
    "    customer_orders = set()\n",
    "    while True:\n",
    "        order = input(\"Enter a product name to order (or 'done' to finish): \")\n",
    "        if order.lower() == 'done':\n",
    "            break\n",
    "        customer_orders.add(order)\n",
    "    return customer_orders"
   ]
  },
  {
   "cell_type": "code",
   "execution_count": 3,
   "id": "f967507d",
   "metadata": {},
   "outputs": [],
   "source": [
    "# Step 3: Define a function to update the inventory\n",
    "def update_inventory(customer_orders, inventory):\n",
    "    for order in customer_orders:\n",
    "        if order in inventory:\n",
    "            inventory[order] -= 1"
   ]
  },
  {
   "cell_type": "code",
   "execution_count": 4,
   "id": "c4304af3",
   "metadata": {},
   "outputs": [],
   "source": [
    "# Step 4: Define a function to calculate order statistics\n",
    "def calculate_order_statistics(customer_orders, products):\n",
    "    total_products_ordered = len(customer_orders)\n",
    "    unique_products_percentage = (total_products_ordered / len(products)) * 100\n",
    "    return total_products_ordered, unique_products_percentage"
   ]
  },
  {
   "cell_type": "code",
   "execution_count": 5,
   "id": "7cbf3289",
   "metadata": {},
   "outputs": [],
   "source": [
    "# Step 5: Define a function to print order statistics\n",
    "def print_order_statistics(order_statistics):\n",
    "    total_products_ordered, unique_products_percentage = order_statistics\n",
    "    print(f\"\\nTotal products ordered: {total_products_ordered}\")\n",
    "    print(f\"Percentage of unique products ordered: {unique_products_percentage:.2f}%\")"
   ]
  },
  {
   "cell_type": "code",
   "execution_count": 6,
   "id": "75b3f1e6",
   "metadata": {},
   "outputs": [],
   "source": [
    "# Step 6: Define a function to print the updated inventory\n",
    "def print_updated_inventory(inventory):\n",
    "    print(\"\\nUpdated Inventory:\")\n",
    "    for product, quantity in inventory.items():\n",
    "        print(f\"{product}: {quantity} left\")"
   ]
  },
  {
   "cell_type": "code",
   "execution_count": 7,
   "id": "7466fde2",
   "metadata": {},
   "outputs": [],
   "source": [
    "# Step 7: Main program to execute the functions in sequence\n",
    "def main():\n",
    "    products = [\"Apples\", \"Bananas\", \"Oranges\", \"Grapes\"]\n",
    "    \n",
    "    # Initialize inventory\n",
    "    inventory = initialize_inventory(products)\n",
    "    \n",
    "    # Get customer orders\n",
    "    customer_orders = get_customer_orders()\n",
    "    \n",
    "    # Update inventory\n",
    "    update_inventory(customer_orders, inventory)\n",
    "    \n",
    "    # Calculate order statistics\n",
    "    order_statistics = calculate_order_statistics(customer_orders, products)\n",
    "    \n",
    "    # Print order statistics\n",
    "    print_order_statistics(order_statistics)\n",
    "    \n",
    "    # Print updated inventory\n",
    "    print_updated_inventory(inventory)"
   ]
  }
 ],
 "metadata": {
  "kernelspec": {
   "display_name": "Python 3 (ipykernel)",
   "language": "python",
   "name": "python3"
  },
  "language_info": {
   "codemirror_mode": {
    "name": "ipython",
    "version": 3
   },
   "file_extension": ".py",
   "mimetype": "text/x-python",
   "name": "python",
   "nbconvert_exporter": "python",
   "pygments_lexer": "ipython3",
   "version": "3.12.4"
  }
 },
 "nbformat": 4,
 "nbformat_minor": 5
}
